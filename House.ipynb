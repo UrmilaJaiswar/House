{
 "cells": [
  {
   "cell_type": "code",
   "execution_count": 1,
   "metadata": {},
   "outputs": [],
   "source": [
    "import numpy as np\n",
    "import pandas as pd\n",
    "import seaborn as sns\n",
    "import matplotlib.pyplot as plt\n",
    "from sklearn.model_selection import train_test_split\n",
    "import warnings\n",
    "warnings.filterwarnings('ignore')"
   ]
  },
  {
   "cell_type": "code",
   "execution_count": 2,
   "metadata": {},
   "outputs": [],
   "source": [
    "#load dataset\n",
    "df=pd.read_csv(\"C:/Users/arohi/.jupyter/house.csv\")"
   ]
  },
  {
   "cell_type": "code",
   "execution_count": 3,
   "metadata": {},
   "outputs": [],
   "source": [
    "from sklearn.preprocessing import StandardScaler"
   ]
  },
  {
   "cell_type": "code",
   "execution_count": 4,
   "metadata": {},
   "outputs": [],
   "source": [
    "SE=StandardScaler()"
   ]
  },
  {
   "cell_type": "code",
   "execution_count": 5,
   "metadata": {},
   "outputs": [
    {
     "data": {
      "text/html": [
       "<div>\n",
       "<style scoped>\n",
       "    .dataframe tbody tr th:only-of-type {\n",
       "        vertical-align: middle;\n",
       "    }\n",
       "\n",
       "    .dataframe tbody tr th {\n",
       "        vertical-align: top;\n",
       "    }\n",
       "\n",
       "    .dataframe thead th {\n",
       "        text-align: right;\n",
       "    }\n",
       "</style>\n",
       "<table border=\"1\" class=\"dataframe\">\n",
       "  <thead>\n",
       "    <tr style=\"text-align: right;\">\n",
       "      <th></th>\n",
       "      <th>Rooms</th>\n",
       "      <th>Type</th>\n",
       "      <th>Price</th>\n",
       "      <th>Method</th>\n",
       "      <th>SellerG</th>\n",
       "      <th>Distance</th>\n",
       "      <th>Postcode</th>\n",
       "      <th>Bathroom</th>\n",
       "      <th>Car</th>\n",
       "      <th>Landsize</th>\n",
       "      <th>BuildingArea</th>\n",
       "      <th>YearBuilt</th>\n",
       "      <th>CouncilArea</th>\n",
       "      <th>Longtitude</th>\n",
       "      <th>Regionname</th>\n",
       "      <th>Propertycount</th>\n",
       "    </tr>\n",
       "  </thead>\n",
       "  <tbody>\n",
       "    <tr>\n",
       "      <th>0</th>\n",
       "      <td>2</td>\n",
       "      <td>0</td>\n",
       "      <td>1035000</td>\n",
       "      <td>1</td>\n",
       "      <td>23</td>\n",
       "      <td>2.5</td>\n",
       "      <td>3067</td>\n",
       "      <td>1</td>\n",
       "      <td>0</td>\n",
       "      <td>156</td>\n",
       "      <td>79.0</td>\n",
       "      <td>1900</td>\n",
       "      <td>31</td>\n",
       "      <td>144.9934</td>\n",
       "      <td>2</td>\n",
       "      <td>4019</td>\n",
       "    </tr>\n",
       "    <tr>\n",
       "      <th>1</th>\n",
       "      <td>3</td>\n",
       "      <td>0</td>\n",
       "      <td>1465000</td>\n",
       "      <td>3</td>\n",
       "      <td>23</td>\n",
       "      <td>2.5</td>\n",
       "      <td>3067</td>\n",
       "      <td>2</td>\n",
       "      <td>0</td>\n",
       "      <td>134</td>\n",
       "      <td>150.0</td>\n",
       "      <td>1900</td>\n",
       "      <td>31</td>\n",
       "      <td>144.9944</td>\n",
       "      <td>2</td>\n",
       "      <td>4019</td>\n",
       "    </tr>\n",
       "    <tr>\n",
       "      <th>2</th>\n",
       "      <td>4</td>\n",
       "      <td>0</td>\n",
       "      <td>1600000</td>\n",
       "      <td>4</td>\n",
       "      <td>155</td>\n",
       "      <td>2.5</td>\n",
       "      <td>3067</td>\n",
       "      <td>1</td>\n",
       "      <td>2</td>\n",
       "      <td>120</td>\n",
       "      <td>142.0</td>\n",
       "      <td>2014</td>\n",
       "      <td>31</td>\n",
       "      <td>144.9941</td>\n",
       "      <td>2</td>\n",
       "      <td>4019</td>\n",
       "    </tr>\n",
       "    <tr>\n",
       "      <th>3</th>\n",
       "      <td>3</td>\n",
       "      <td>0</td>\n",
       "      <td>1876000</td>\n",
       "      <td>1</td>\n",
       "      <td>155</td>\n",
       "      <td>2.5</td>\n",
       "      <td>3067</td>\n",
       "      <td>2</td>\n",
       "      <td>0</td>\n",
       "      <td>245</td>\n",
       "      <td>210.0</td>\n",
       "      <td>1910</td>\n",
       "      <td>31</td>\n",
       "      <td>144.9993</td>\n",
       "      <td>2</td>\n",
       "      <td>4019</td>\n",
       "    </tr>\n",
       "    <tr>\n",
       "      <th>4</th>\n",
       "      <td>2</td>\n",
       "      <td>0</td>\n",
       "      <td>1636000</td>\n",
       "      <td>1</td>\n",
       "      <td>155</td>\n",
       "      <td>2.5</td>\n",
       "      <td>3067</td>\n",
       "      <td>1</td>\n",
       "      <td>2</td>\n",
       "      <td>256</td>\n",
       "      <td>107.0</td>\n",
       "      <td>1890</td>\n",
       "      <td>31</td>\n",
       "      <td>144.9954</td>\n",
       "      <td>2</td>\n",
       "      <td>4019</td>\n",
       "    </tr>\n",
       "  </tbody>\n",
       "</table>\n",
       "</div>"
      ],
      "text/plain": [
       "   Rooms  Type    Price  Method  SellerG  Distance  Postcode  Bathroom  Car  \\\n",
       "0      2     0  1035000       1       23       2.5      3067         1    0   \n",
       "1      3     0  1465000       3       23       2.5      3067         2    0   \n",
       "2      4     0  1600000       4      155       2.5      3067         1    2   \n",
       "3      3     0  1876000       1      155       2.5      3067         2    0   \n",
       "4      2     0  1636000       1      155       2.5      3067         1    2   \n",
       "\n",
       "   Landsize  BuildingArea  YearBuilt  CouncilArea  Longtitude  Regionname  \\\n",
       "0       156          79.0       1900           31    144.9934           2   \n",
       "1       134         150.0       1900           31    144.9944           2   \n",
       "2       120         142.0       2014           31    144.9941           2   \n",
       "3       245         210.0       1910           31    144.9993           2   \n",
       "4       256         107.0       1890           31    144.9954           2   \n",
       "\n",
       "   Propertycount  \n",
       "0           4019  \n",
       "1           4019  \n",
       "2           4019  \n",
       "3           4019  \n",
       "4           4019  "
      ]
     },
     "execution_count": 5,
     "metadata": {},
     "output_type": "execute_result"
    }
   ],
   "source": [
    "#to show 5 records\n",
    "df.head()"
   ]
  },
  {
   "cell_type": "code",
   "execution_count": 6,
   "metadata": {},
   "outputs": [
    {
     "data": {
      "text/plain": [
       "(6830, 16)"
      ]
     },
     "execution_count": 6,
     "metadata": {},
     "output_type": "execute_result"
    }
   ],
   "source": [
    "df.shape"
   ]
  },
  {
   "cell_type": "code",
   "execution_count": 7,
   "metadata": {},
   "outputs": [
    {
     "data": {
      "text/plain": [
       "Rooms            0\n",
       "Type             0\n",
       "Price            0\n",
       "Method           0\n",
       "SellerG          0\n",
       "Distance         0\n",
       "Postcode         0\n",
       "Bathroom         0\n",
       "Car              0\n",
       "Landsize         0\n",
       "BuildingArea     0\n",
       "YearBuilt        0\n",
       "CouncilArea      0\n",
       "Longtitude       0\n",
       "Regionname       0\n",
       "Propertycount    0\n",
       "dtype: int64"
      ]
     },
     "execution_count": 7,
     "metadata": {},
     "output_type": "execute_result"
    }
   ],
   "source": [
    "#check null values\n",
    "df.isnull().sum()"
   ]
  },
  {
   "cell_type": "code",
   "execution_count": 8,
   "metadata": {},
   "outputs": [
    {
     "name": "stdout",
     "output_type": "stream",
     "text": [
      "<class 'pandas.core.frame.DataFrame'>\n",
      "RangeIndex: 6830 entries, 0 to 6829\n",
      "Data columns (total 16 columns):\n",
      " #   Column         Non-Null Count  Dtype  \n",
      "---  ------         --------------  -----  \n",
      " 0   Rooms          6830 non-null   int64  \n",
      " 1   Type           6830 non-null   int64  \n",
      " 2   Price          6830 non-null   int64  \n",
      " 3   Method         6830 non-null   int64  \n",
      " 4   SellerG        6830 non-null   int64  \n",
      " 5   Distance       6830 non-null   float64\n",
      " 6   Postcode       6830 non-null   int64  \n",
      " 7   Bathroom       6830 non-null   int64  \n",
      " 8   Car            6830 non-null   int64  \n",
      " 9   Landsize       6830 non-null   int64  \n",
      " 10  BuildingArea   6830 non-null   float64\n",
      " 11  YearBuilt      6830 non-null   int64  \n",
      " 12  CouncilArea    6830 non-null   int64  \n",
      " 13  Longtitude     6830 non-null   float64\n",
      " 14  Regionname     6830 non-null   int64  \n",
      " 15  Propertycount  6830 non-null   int64  \n",
      "dtypes: float64(3), int64(13)\n",
      "memory usage: 853.9 KB\n"
     ]
    }
   ],
   "source": [
    "df.info()"
   ]
  },
  {
   "cell_type": "code",
   "execution_count": 9,
   "metadata": {},
   "outputs": [],
   "source": [
    "#we will separate independent and dependent variable \n",
    "#means select input and output variable from df\n",
    "X=df.drop(\"Price\",axis=1)\n",
    "Y=df[\"Price\"].values"
   ]
  },
  {
   "cell_type": "code",
   "execution_count": 10,
   "metadata": {},
   "outputs": [],
   "source": [
    "X = SE.fit_transform(X)\n",
    "Y = np.squeeze(SE.fit_transform(Y.reshape(-1,1)))"
   ]
  },
  {
   "cell_type": "code",
   "execution_count": 11,
   "metadata": {},
   "outputs": [],
   "source": [
    "#train_test_split\n",
    "from sklearn.model_selection import train_test_split"
   ]
  },
  {
   "cell_type": "code",
   "execution_count": 12,
   "metadata": {},
   "outputs": [],
   "source": [
    "X_train,X_test,Y_train,Y_test=train_test_split(X,Y,test_size=0.3,random_state=1)"
   ]
  },
  {
   "cell_type": "markdown",
   "metadata": {},
   "source": [
    "# LinearRegression"
   ]
  },
  {
   "cell_type": "code",
   "execution_count": 13,
   "metadata": {},
   "outputs": [],
   "source": [
    "#we will call the linear regression class\n",
    "from sklearn.linear_model import LinearRegression"
   ]
  },
  {
   "cell_type": "code",
   "execution_count": 14,
   "metadata": {},
   "outputs": [],
   "source": [
    "#create object of LinearRegression\n",
    "lr=LinearRegression()"
   ]
  },
  {
   "cell_type": "code",
   "execution_count": 15,
   "metadata": {},
   "outputs": [
    {
     "data": {
      "text/plain": [
       "LinearRegression()"
      ]
     },
     "execution_count": 15,
     "metadata": {},
     "output_type": "execute_result"
    }
   ],
   "source": [
    "#we will train data now\n",
    "lr.fit(X_train,Y_train)"
   ]
  },
  {
   "cell_type": "code",
   "execution_count": 16,
   "metadata": {},
   "outputs": [],
   "source": [
    "#we will test the data now\n",
    "Y_pred=lr.predict(X_test)"
   ]
  },
  {
   "cell_type": "code",
   "execution_count": 17,
   "metadata": {},
   "outputs": [],
   "source": [
    "#Evaluation \n",
    "#Mean Squared Error,Root mean Squared error : call class\n",
    "from sklearn.metrics import mean_squared_error"
   ]
  },
  {
   "cell_type": "code",
   "execution_count": 18,
   "metadata": {},
   "outputs": [],
   "source": [
    "#Evaluation\n",
    "mse=mean_squared_error(Y_test,Y_pred)\n",
    "rmse=np.sqrt(mse)"
   ]
  },
  {
   "cell_type": "code",
   "execution_count": 19,
   "metadata": {},
   "outputs": [
    {
     "name": "stdout",
     "output_type": "stream",
     "text": [
      "MSE :  0.48482303873362825\n",
      "Root Mean Squared Error :  0.6962923514829301\n"
     ]
    }
   ],
   "source": [
    "print(\"MSE : \",mse)\n",
    "print(\"Root Mean Squared Error : \",rmse)"
   ]
  },
  {
   "cell_type": "code",
   "execution_count": 20,
   "metadata": {},
   "outputs": [],
   "source": [
    "#finally evaluation of model use r2_score() inbuilt function \n",
    "from sklearn.metrics import r2_score  #r2_score inbuilt function"
   ]
  },
  {
   "cell_type": "code",
   "execution_count": 21,
   "metadata": {},
   "outputs": [
    {
     "data": {
      "text/plain": [
       "0.5775984742888252"
      ]
     },
     "execution_count": 21,
     "metadata": {},
     "output_type": "execute_result"
    }
   ],
   "source": [
    "#finally evaluation of model use r2_score() inbuilt function\n",
    "r2_score(Y_test,Y_pred) #r2-score : 0 to 1  #excellent"
   ]
  },
  {
   "cell_type": "code",
   "execution_count": 31,
   "metadata": {},
   "outputs": [],
   "source": [
    "#we will separate independent and dependent variable \n",
    "#means select input and output variable from df\n",
    "X=df.drop(\"Price\",axis=1)\n",
    "Y=df[\"Price\"]"
   ]
  },
  {
   "cell_type": "markdown",
   "metadata": {},
   "source": [
    "# Polynomial Regression"
   ]
  },
  {
   "cell_type": "code",
   "execution_count": 22,
   "metadata": {},
   "outputs": [],
   "source": [
    "#Cubic means degree of X=3 then eq. Y=m1(X^3)+m2(X^2)+m3(X^1)+b\n",
    "#create the function\n",
    "#suppose m1=8,m2=6 m3=4 and b=5\n",
    "def poly_3(X):\n",
    "    Y=8*(X**3)+6*(X**2)+4*X+5\n",
    "    return Y#Linear means degree of X=1   then eq. Y=mX+b where m=slope and b=intercept\n",
    "#create a function\n",
    "#suppose given m=4 and b=5\n",
    "def poly_1(X): \n",
    "    Y=4*X+5\n",
    "    return Y#Cubic means degree of X=3 then eq. Y=m1(X^3)+m2(X^2)+m3(X^1)+b\n",
    "#create the function\n",
    "#suppose m1=8,m2=6 m3=4 and b=5\n",
    "def poly_3(X):\n",
    "    Y=8*(X**3)+6*(X**2)+4*X+5\n",
    "    return Y"
   ]
  },
  {
   "cell_type": "code",
   "execution_count": 23,
   "metadata": {
    "scrolled": false
   },
   "outputs": [],
   "source": [
    "#Quadratic means degree of X=2 then eq. Y=m1(X^2)+m2(X^1)+b\n",
    "#create the function\n",
    "#suppose m1=6 m2=4 and b=5\n",
    "def poly_2(X):\n",
    "    Y=6*(X**2)+4*X+5\n",
    "    return Y"
   ]
  },
  {
   "cell_type": "code",
   "execution_count": 24,
   "metadata": {},
   "outputs": [],
   "source": [
    "#create the function plot which is visualise the data\n",
    "def plot(X,Y):\n",
    "    plt.figure()\n",
    "    plt.plot(X,Y)\n",
    "    plt.show()"
   ]
  },
  {
   "cell_type": "code",
   "execution_count": 25,
   "metadata": {},
   "outputs": [
    {
     "name": "stdout",
     "output_type": "stream",
     "text": [
      "[-100  -99  -98  -97  -96  -95  -94  -93  -92  -91  -90  -89  -88  -87\n",
      "  -86  -85  -84  -83  -82  -81  -80  -79  -78  -77  -76  -75  -74  -73\n",
      "  -72  -71  -70  -69  -68  -67  -66  -65  -64  -63  -62  -61  -60  -59\n",
      "  -58  -57  -56  -55  -54  -53  -52  -51  -50  -49  -48  -47  -46  -45\n",
      "  -44  -43  -42  -41  -40  -39  -38  -37  -36  -35  -34  -33  -32  -31\n",
      "  -30  -29  -28  -27  -26  -25  -24  -23  -22  -21  -20  -19  -18  -17\n",
      "  -16  -15  -14  -13  -12  -11  -10   -9   -8   -7   -6   -5   -4   -3\n",
      "   -2   -1    0    1    2    3    4    5    6    7    8    9   10   11\n",
      "   12   13   14   15   16   17   18   19   20   21   22   23   24   25\n",
      "   26   27   28   29   30   31   32   33   34   35   36   37   38   39\n",
      "   40   41   42   43   44   45   46   47   48   49   50   51   52   53\n",
      "   54   55   56   57   58   59   60   61   62   63   64   65   66   67\n",
      "   68   69   70   71   72   73   74   75   76   77   78   79   80   81\n",
      "   82   83   84   85   86   87   88   89   90   91   92   93   94   95\n",
      "   96   97   98   99]\n"
     ]
    }
   ],
   "source": [
    "X=np.arange(-100,100) #start=-100 , stop=100-1=99 and step=+1 \n",
    "print(X)"
   ]
  },
  {
   "cell_type": "code",
   "execution_count": 26,
   "metadata": {},
   "outputs": [
    {
     "data": {
      "image/png": "[encoded data removed]",
      "text/plain": [
       "<Figure size 432x288 with 1 Axes>"
      ]
     },
     "metadata": {
      "needs_background": "light"
     },
     "output_type": "display_data"
    }
   ],
   "source": [
    "#call function poly_1(X)\n",
    "Y=poly_1(X)\n",
    "#Plot(check linear relationship) line plot\n",
    "#call plot()\n",
    "plot(X,Y) #to draw a line X: independent variable and Y=target"
   ]
  },
  {
   "cell_type": "code",
   "execution_count": 33,
   "metadata": {},
   "outputs": [
    {
     "data": {
      "image/png": "[encoded data removed]",
      "text/plain": [
       "<Figure size 432x288 with 1 Axes>"
      ]
     },
     "metadata": {
      "needs_background": "light"
     },
     "output_type": "display_data"
    }
   ],
   "source": [
    "#call poly_2()\n",
    "Y=poly_2(X)\n",
    "#call plot function(Quadratic relation)\n",
    "plot(X,Y)"
   ]
  },
  {
   "cell_type": "code",
   "execution_count": 34,
   "metadata": {},
   "outputs": [],
   "source": [
    "#work on remaining Assumption which is not solved by previous\n",
    "#Polynomial Regression\n",
    "#call class PolynomialFeatures\n",
    "from sklearn.preprocessing import PolynomialFeatures"
   ]
  },
  {
   "cell_type": "code",
   "execution_count": 35,
   "metadata": {},
   "outputs": [],
   "source": [
    "#Create the object of PolynomialFeatures and \n",
    "#increase the degree of input variable X\n",
    "pf=PolynomialFeatures(2) #Pass How much degree means we pass degree of X=2"
   ]
  },
  {
   "cell_type": "code",
   "execution_count": 36,
   "metadata": {},
   "outputs": [],
   "source": [
    "X_poly=pf.fit_transform(X) \n",
    "#fit_transform() inbuilt method of PolynomialFeature"
   ]
  },
  {
   "cell_type": "code",
   "execution_count": 37,
   "metadata": {},
   "outputs": [
    {
     "data": {
      "text/plain": [
       "(6830, 136)"
      ]
     },
     "execution_count": 37,
     "metadata": {},
     "output_type": "execute_result"
    }
   ],
   "source": [
    "X_poly.shape"
   ]
  },
  {
   "cell_type": "code",
   "execution_count": 38,
   "metadata": {},
   "outputs": [
    {
     "data": {
      "text/plain": [
       "(6830, 15)"
      ]
     },
     "execution_count": 38,
     "metadata": {},
     "output_type": "execute_result"
    }
   ],
   "source": [
    "Y.shape"
   ]
  },
  {
   "cell_type": "code",
   "execution_count": 39,
   "metadata": {},
   "outputs": [],
   "source": [
    "#Train_Test_Split()\n",
    "#Train Test split\n",
    "X_train,X_test,Y_train,Y_test=train_test_split(X_poly,df.Price,test_size=0.3,random_state=1)"
   ]
  },
  {
   "cell_type": "code",
   "execution_count": 40,
   "metadata": {},
   "outputs": [],
   "source": [
    "#Then apply same steps\n",
    "#we create the object of LinearRegression class\n",
    "lr=LinearRegression()"
   ]
  },
  {
   "cell_type": "code",
   "execution_count": 41,
   "metadata": {},
   "outputs": [
    {
     "data": {
      "text/plain": [
       "LinearRegression()"
      ]
     },
     "execution_count": 41,
     "metadata": {},
     "output_type": "execute_result"
    }
   ],
   "source": [
    "#We train the model with the help of fit() : it is inbuilt method of\n",
    "#LinearRegression class\n",
    "lr.fit(X_train,Y_train)"
   ]
  },
  {
   "cell_type": "code",
   "execution_count": 42,
   "metadata": {},
   "outputs": [],
   "source": [
    "#we can perform the prediction means Test\n",
    "Y_pred=lr.predict(X_test)"
   ]
  },
  {
   "cell_type": "code",
   "execution_count": 43,
   "metadata": {},
   "outputs": [],
   "source": [
    "#Evaluation\n",
    "mse=mean_squared_error(Y_test,Y_pred)\n",
    "rmse=np.sqrt(mse)"
   ]
  },
  {
   "cell_type": "code",
   "execution_count": 44,
   "metadata": {},
   "outputs": [
    {
     "name": "stdout",
     "output_type": "stream",
     "text": [
      "MSE :  164424319921.25424\n",
      "Root Mean Squared Error :  405492.6878764329\n"
     ]
    }
   ],
   "source": [
    "print(\"MSE : \",mse)\n",
    "print(\"Root Mean Squared Error : \",rmse)"
   ]
  },
  {
   "cell_type": "code",
   "execution_count": 45,
   "metadata": {},
   "outputs": [
    {
     "data": {
      "text/plain": [
       "0.6839698457845114"
      ]
     },
     "execution_count": 45,
     "metadata": {},
     "output_type": "execute_result"
    }
   ],
   "source": [
    "#finally evaluation of model use r2_score() inbuilt function\n",
    "r2_score(Y_test,Y_pred) #r2-score : 0 to 1  #excellent"
   ]
  },
  {
   "cell_type": "markdown",
   "metadata": {},
   "source": [
    "# Cross Validation, Lasso and Ridge"
   ]
  },
  {
   "cell_type": "code",
   "execution_count": 46,
   "metadata": {},
   "outputs": [],
   "source": [
    "#call class\n",
    "from sklearn.model_selection import cross_val_score\n",
    "#cross_val_score inbuilt class"
   ]
  },
  {
   "cell_type": "code",
   "execution_count": 47,
   "metadata": {},
   "outputs": [],
   "source": [
    "from sklearn.linear_model import Lasso #lambda*sumof(abs(all coefficient))\n",
    "from sklearn.linear_model import Ridge"
   ]
  },
  {
   "cell_type": "code",
   "execution_count": 48,
   "metadata": {},
   "outputs": [],
   "source": [
    "#Create the object of Lasso and Ridge regularization\n",
    "l1=Lasso(200) #passing the value of lambda=200\n",
    "l2=Ridge(2) #passing  the value of lambda/alpha=2"
   ]
  },
  {
   "cell_type": "code",
   "execution_count": 49,
   "metadata": {},
   "outputs": [],
   "source": [
    "#apply cross validation on lasso regularisztion\n",
    "#create the object of cross_val_score\n",
    "l1_cross=cross_val_score(l1,X,df.Price,cv=4) #cv means how many folds means how many \n",
    "#parts or iteration"
   ]
  },
  {
   "cell_type": "code",
   "execution_count": 50,
   "metadata": {},
   "outputs": [
    {
     "data": {
      "text/plain": [
       "array([0.62237849, 0.6604972 , 0.57889927, 0.47036128])"
      ]
     },
     "execution_count": 50,
     "metadata": {},
     "output_type": "execute_result"
    }
   ],
   "source": [
    "#check l1_cross\n",
    "l1_cross"
   ]
  },
  {
   "cell_type": "code",
   "execution_count": 51,
   "metadata": {},
   "outputs": [],
   "source": [
    "#apply cross validation onRTidge regularisztion\n",
    "#create the object of cross_val_score\n",
    "l2_cross=cross_val_score(l2,X,df.Price,cv=4) #cv means how many folds means how many \n",
    "#parts or iteration"
   ]
  },
  {
   "cell_type": "code",
   "execution_count": 52,
   "metadata": {},
   "outputs": [
    {
     "data": {
      "text/plain": [
       "array([0.62221196, 0.65995838, 0.57883037, 0.47163715])"
      ]
     },
     "execution_count": 52,
     "metadata": {},
     "output_type": "execute_result"
    }
   ],
   "source": [
    "#check\n",
    "l2_cross"
   ]
  },
  {
   "cell_type": "code",
   "execution_count": 53,
   "metadata": {},
   "outputs": [
    {
     "data": {
      "text/plain": [
       "0.5831594660070417"
      ]
     },
     "execution_count": 53,
     "metadata": {},
     "output_type": "execute_result"
    }
   ],
   "source": [
    "#find the mean means average\n",
    "np.mean(l2_cross)"
   ]
  }
 ],
 "metadata": {
  "kernelspec": {
   "display_name": "Python 3",
   "language": "python",
   "name": "python3"
  },
  "language_info": {
   "codemirror_mode": {
    "name": "ipython",
    "version": 3
   },
   "file_extension": ".py",
   "mimetype": "text/x-python",
   "name": "python",
   "nbconvert_exporter": "python",
   "pygments_lexer": "ipython3",
   "version": "3.7.6"
  }
 },
 "nbformat": 4,
 "nbformat_minor": 2
}
